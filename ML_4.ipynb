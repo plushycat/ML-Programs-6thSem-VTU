{
 "cells": [
  {
   "cell_type": "code",
   "execution_count": null,
   "metadata": {},
   "outputs": [
    {
     "name": "stdout",
     "output_type": "stream",
     "text": [
      "Training data:\n",
      "    Outlook Temperature Humidity  Windy PlayTennis\n",
      "0     Sunny         Hot     High  False         No\n",
      "1     Sunny         Hot     High   True         No\n",
      "2  Overcast         Hot     High  False        Yes\n",
      "3      Rain        Cold     High  False        Yes\n",
      "4      Rain        Cold     High   True         No\n",
      "5  Overcast         Hot     High   True        Yes\n",
      "6     Sunny         Hot     High  False         No\n",
      "\n",
      "The final hypothesis is: ['Overcast', 'Hot', 'High', '?']\n"
     ]
    }
   ],
   "source": [
    "import pandas as pd\n",
    "\n",
    "def find_s_algorithm(file_path):\n",
    "    data = pd.read_csv(file_path)\n",
    "    print(\"Training data:\")\n",
    "    print(data) \n",
    "    attributes = data.columns[:-1]\n",
    "    class_label = data.columns[-1]\n",
    "    hypothesis = ['?' for _ in attributes]\n",
    "    for index, row in data.iterrows():\n",
    "        if row[class_label] == 'Yes':\n",
    "            for i, value in enumerate(row[attributes]):\n",
    "                if hypothesis[i] == '?' or hypothesis[i] == value:\n",
    "                    hypothesis[i] = value\n",
    "                else:\n",
    "                    hypothesis[i] = '?'\n",
    "    return hypothesis\n",
    "\n",
    "file_path = 'training_data.csv'\n",
    "hypothesis = find_s_algorithm(file_path)\n",
    "print(\"\\nThe final hypothesis is:\", hypothesis)\n",
    "\n",
    "#optional:\n",
    "#file_path = \"https://raw.githubusercontent.com/plushycat/ML-Datasets/main/training_data.csv\"\n",
    "#this is in case you do not have a pre-provided training_data.csv"
   ]
  },
  {
   "cell_type": "code",
   "execution_count": null,
   "metadata": {},
   "outputs": [],
   "source": []
  },
  {
   "cell_type": "code",
   "execution_count": null,
   "metadata": {},
   "outputs": [],
   "source": []
  }
 ],
 "metadata": {
  "kernelspec": {
   "display_name": "base",
   "language": "python",
   "name": "python3"
  },
  "language_info": {
   "codemirror_mode": {
    "name": "ipython",
    "version": 3
   },
   "file_extension": ".py",
   "mimetype": "text/x-python",
   "name": "python",
   "nbconvert_exporter": "python",
   "pygments_lexer": "ipython3",
   "version": "3.12.4"
  }
 },
 "nbformat": 4,
 "nbformat_minor": 4
}
